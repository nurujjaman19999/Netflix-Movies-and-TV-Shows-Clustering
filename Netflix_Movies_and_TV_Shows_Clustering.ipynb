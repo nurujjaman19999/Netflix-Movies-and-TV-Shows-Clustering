{
  "nbformat": 4,
  "nbformat_minor": 0,
  "metadata": {
    "colab": {
      "provenance": [],
      "authorship_tag": "ABX9TyPSw3JA+aqUwN4CIFQdBRAu",
      "include_colab_link": true
    },
    "kernelspec": {
      "name": "python3",
      "display_name": "Python 3"
    },
    "language_info": {
      "name": "python"
    }
  },
  "cells": [
    {
      "cell_type": "markdown",
      "metadata": {
        "id": "view-in-github",
        "colab_type": "text"
      },
      "source": [
        "<a href=\"https://colab.research.google.com/github/nurujjaman19999/Netflix-Movies-and-TV-Shows-Clustering/blob/main/Netflix_Movies_and_TV_Shows_Clustering.ipynb\" target=\"_parent\"><img src=\"https://colab.research.google.com/assets/colab-badge.svg\" alt=\"Open In Colab\"/></a>"
      ]
    },
    {
      "cell_type": "markdown",
      "source": [
        "### **Project name** - Netflix Movies and TV Shows Clustering"
      ],
      "metadata": {
        "id": "FKVrKgDMzyys"
      }
    },
    {
      "cell_type": "markdown",
      "source": [
        "Project Type - Unsupervised\n",
        "\n",
        "Contribution - Individual\n",
        "\n",
        "Nuruj Jaman"
      ],
      "metadata": {
        "id": "vn5rM6uc1eNM"
      }
    },
    {
      "cell_type": "markdown",
      "source": [
        "### **Project Summary** -"
      ],
      "metadata": {
        "id": "CeBnEcTT1_yt"
      }
    },
    {
      "cell_type": "markdown",
      "source": [
        "This dataset consists of tv shows and movies available on Netflix as of 2019. The dataset is collected from Flixable which is a third-party Netflix search engine.\n",
        "\n",
        "In 2018, they released an interesting report which shows that the number of TV shows on Netflix has nearly tripled since 2010. The streaming service’s number of movies has decreased by more than 2,000 titles since 2010, while its number of TV shows has nearly tripled. It will be interesting to explore what all other insights can be obtained from the same dataset.\n",
        "\n",
        "innitially we start with understanding the data set, then we clean the data to make analysis ready.\n",
        "\n",
        "explore the data and understand the behaviour of the same.\n",
        "\n",
        "we then prepare the data for creating clusters by various parameters wherein we remove stop words, white spaces numbers etc so that we can get important words and based on that we shall form clusters.\n",
        "\n",
        "later I have used the silhoute method and kmeans elbow method to find optimal number of clusters and built recommender system by cosine similarity and recommended top 5 movies."
      ],
      "metadata": {
        "id": "qz4QZzYM2NO1"
      }
    },
    {
      "cell_type": "markdown",
      "source": [
        "### **GitHub Link**"
      ],
      "metadata": {
        "id": "Pk4Y1R6z2WXo"
      }
    },
    {
      "cell_type": "markdown",
      "source": [
        "https://github.com/nurujjaman19999/Netflix-Movies-and-TV-Shows-Clustering"
      ],
      "metadata": {
        "id": "sK8va2xG2xJX"
      }
    },
    {
      "cell_type": "markdown",
      "source": [
        "### **Problem Statement**"
      ],
      "metadata": {
        "id": "swLQuEE521mB"
      }
    },
    {
      "cell_type": "markdown",
      "source": [
        "This dataset consists of tv shows and movies available on Netflix as of 2019. The dataset is collected from Flixable which is a third-party Netflix search engine.\n",
        "\n",
        "In 2018, they released an interesting report which shows that the number of TV shows on Netflix has nearly tripled since 2010. The streaming service’s number of movies has decreased by more than 2,000 titles since 2010, while its number of TV shows has nearly tripled. It will be interesting to explore what all other insights can be obtained from the same dataset."
      ],
      "metadata": {
        "id": "yNyCK8zE3dVy"
      }
    },
    {
      "cell_type": "markdown",
      "source": [
        "### **General Guidelines** :"
      ],
      "metadata": {
        "id": "y3DndCtN3h93"
      }
    },
    {
      "cell_type": "markdown",
      "source": [
        "1. Well-structured, formatted, and commented code is required.\n",
        "\n",
        "2. Exception Handling, Production Grade Code & Deployment Ready Code will be a plus. Those students will be awarded some additional credits.\n",
        "\n",
        "The additional credits will have advantages over other students during Star Student selection.\n",
        "\n",
        "    [ Note: - Deployment Ready Code is defined as, the whole .ipynb notebook should be executable in one go\n",
        "              without a single error logged. ]\n",
        "3. Each and every logic should have proper comments.\n",
        "\n",
        "4. You may add as many number of charts you want. Make Sure for each and every chart the following format should be answered.\n",
        "\n",
        " #Chart visualization code\n",
        "* Why did you pick the specific chart?\n",
        "* What is/are the insight(s) found from the chart?\n",
        "* Will the gained insights help creating a positive business impact? Are there any insights that lead to negative growth? Justify with specific reason.\n",
        "5. You have to create at least 15 logical & meaningful charts having important insights.\n",
        "[ Hints : - Do the Vizualization in a structured way while following \"UBM\" Rule.\n",
        "\n",
        "U - Univariate Analysis,\n",
        "\n",
        "B - Bivariate Analysis (Numerical - Categorical, Numerical - Numerical, Categorical - Categorical)\n",
        "\n",
        "M - Multivariate Analysis ]\n",
        "\n",
        "6. You may add more ml algorithms for model creation. Make sure for each and every algorithm, the following format should be answered.\n",
        "Explain the ML Model used and it's performance using Evaluation metric Score Chart.\n",
        "Cross- Validation & Hyperparameter Tuning\n",
        "\n",
        "Have you seen any improvement? Note down the improvement with updates Evaluation metric Score Chart.\n",
        "\n",
        "Explain each evaluation metric's indication towards business and the business impact pf the ML model used."
      ],
      "metadata": {
        "id": "lgxEGY0b3vMP"
      }
    },
    {
      "cell_type": "markdown",
      "source": [],
      "metadata": {
        "id": "-P9aBlPj0ElP"
      }
    }
  ]
}